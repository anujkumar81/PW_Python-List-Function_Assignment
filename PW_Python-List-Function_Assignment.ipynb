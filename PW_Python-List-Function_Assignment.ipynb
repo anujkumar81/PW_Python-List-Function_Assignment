{
 "cells": [
  {
   "cell_type": "code",
   "execution_count": 14,
   "id": "dc030ee1-9b13-446e-a31d-a42df7dba323",
   "metadata": {},
   "outputs": [
    {
     "name": "stdout",
     "output_type": "stream",
     "text": [
      "[1, 2, 3, 4, 5]\n",
      "[5, 1, 2, 3, 4]\n"
     ]
    }
   ],
   "source": [
    "#Q1. What is the syntax for adding an element to a list in Python?\n",
    "#Answr;\n",
    "'''\n",
    "There are two ways to add an element to a list in Python:\n",
    "Using the append() method: The append() method takes an element as an argument and adds it to the end of the list. The syntax for the append() method is:'''\n",
    "#1. list.append(element)\n",
    "my_list = [1, 2, 3, 4]\n",
    "my_list.append(5)\n",
    "print(my_list)\n",
    "\n",
    "#2. list.insert(index, element)\n",
    "my_list = [1, 2, 3, 4]\n",
    "my_list.insert(0, 5)\n",
    "print(my_list)"
   ]
  },
  {
   "cell_type": "code",
   "execution_count": 18,
   "id": "9c1dddce-2a36-4c0e-a25b-f996776cb00e",
   "metadata": {},
   "outputs": [
    {
     "name": "stdout",
     "output_type": "stream",
     "text": [
      "[1, 2, 4, 5]\n",
      "[1, 2, 3, 4]\n",
      "5\n"
     ]
    }
   ],
   "source": [
    "#Q2. What is the difference between remove() and pop() functions in Python?\n",
    "#answer;\n",
    "#The remove() and pop() functions in Python are both used to remove elements from a list.\n",
    "'''\n",
    "remove(): takes the value of the element to be removed as its argument, while pop() takes the index of the element to be removed as its argument.\n",
    "remove(): removes the first occurrence of the specified value from the list, while pop() always removes the last element from the list.\n",
    "remove(): returns None, while pop() returns the removed element.'''\n",
    "# Example\n",
    "list1 = [1, 2, 3, 4, 5]\n",
    "# Remove the element 3 from the list\n",
    "list1.remove(3)\n",
    "print(list1)\n",
    "\n",
    "# Create a list\n",
    "list2 = [1, 2, 3, 4, 5]\n",
    "\n",
    "# Remove the last element from the list\n",
    "element = list2.pop()\n",
    "\n",
    "# Print the list\n",
    "print(list2)\n",
    "print(element)"
   ]
  },
  {
   "cell_type": "code",
   "execution_count": 21,
   "id": "a49f1a28-d575-40bf-844e-56903da735f9",
   "metadata": {},
   "outputs": [
    {
     "name": "stdout",
     "output_type": "stream",
     "text": [
      "Original list: [5, 3, 2, 1, 4]\n",
      "Sorted list in descending order: [5, 4, 3, 2, 1]\n"
     ]
    }
   ],
   "source": [
    "#Q3. Write a Python code to sort a list in descending order.\n",
    "#Answer\n",
    "def sort_list_descending(list1):\n",
    "\n",
    "  # Sort the list in ascending order.\n",
    "  list1.sort()\n",
    "\n",
    "  # Reverse the list to get it in descending order.\n",
    "  list1.reverse()\n",
    "\n",
    "  # Return the sorted list.\n",
    "  return list1\n",
    "\n",
    "# Example usage:\n",
    "\n",
    "list1 = [5, 3, 2, 1, 4]\n",
    "print(\"Original list:\", list1)\n",
    "\n",
    "sorted_list = sort_list_descending(list1)\n",
    "print(\"Sorted list in descending order:\", sorted_list)"
   ]
  },
  {
   "cell_type": "code",
   "execution_count": 22,
   "id": "15bdae2f-d40d-49a4-9900-45a564269ab5",
   "metadata": {},
   "outputs": [
    {
     "name": "stdout",
     "output_type": "stream",
     "text": [
      "Element 8 has occurred 5 times\n"
     ]
    }
   ],
   "source": [
    "#Q4. Write a Python code to count the number of occurrences of an element in a list.\n",
    "#Answer\n",
    "def count_occurrences(list1, x):\n",
    "    count = 0\n",
    "    for ele in list1:\n",
    "        if (ele == x):\n",
    "            count = count + 1\n",
    "    return count\n",
    "\n",
    "# Driver code\n",
    "list1 = [8, 6, 8, 10, 8, 20, 10, 8, 8]\n",
    "x = 8\n",
    "print(\"Element\", x, \"has occurred\", count_occurrences(list1, x), \"times\")"
   ]
  },
  {
   "cell_type": "code",
   "execution_count": 23,
   "id": "e4210a19-430b-44dc-a13e-74c316c6e8ea",
   "metadata": {},
   "outputs": [
    {
     "name": "stdout",
     "output_type": "stream",
     "text": [
      "Reversed list: [5, 4, 3, 2, 1]\n"
     ]
    }
   ],
   "source": [
    "#Q5. Write a Python code to reverse a list.\n",
    "#Answer\n",
    "# Define a list\n",
    "my_list = [1, 2, 3, 4, 5]\n",
    "\n",
    "# Reverse the list using slicing\n",
    "reversed_list = my_list[::-1]\n",
    "\n",
    "# Print the reversed list\n",
    "print(\"Reversed list:\", reversed_list)\n"
   ]
  },
  {
   "cell_type": "code",
   "execution_count": 24,
   "id": "b97d2d14-47cb-49e7-9929-0e6533f026af",
   "metadata": {},
   "outputs": [
    {
     "name": "stdout",
     "output_type": "stream",
     "text": [
      "Reversed list: [5, 4, 3, 2, 1]\n"
     ]
    }
   ],
   "source": [
    "# Define a list\n",
    "my_list = [1, 2, 3, 4, 5]\n",
    "\n",
    "# Reverse the list using the reverse() method\n",
    "my_list.reverse()\n",
    "\n",
    "# Print the reversed list\n",
    "print(\"Reversed list:\", my_list)\n"
   ]
  },
  {
   "cell_type": "code",
   "execution_count": null,
   "id": "1639426f-db62-4250-b8b2-8ae2706412d2",
   "metadata": {},
   "outputs": [],
   "source": []
  }
 ],
 "metadata": {
  "kernelspec": {
   "display_name": "Python 3 (ipykernel)",
   "language": "python",
   "name": "python3"
  },
  "language_info": {
   "codemirror_mode": {
    "name": "ipython",
    "version": 3
   },
   "file_extension": ".py",
   "mimetype": "text/x-python",
   "name": "python",
   "nbconvert_exporter": "python",
   "pygments_lexer": "ipython3",
   "version": "3.10.8"
  }
 },
 "nbformat": 4,
 "nbformat_minor": 5
}
